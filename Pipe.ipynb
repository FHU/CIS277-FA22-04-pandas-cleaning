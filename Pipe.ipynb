{
  "cells": [
    {
      "cell_type": "markdown",
      "metadata": {
        "id": "ihIivcD8SahC"
      },
      "source": [
        "## Imports and EDA"
      ]
    },
    {
      "cell_type": "code",
      "execution_count": null,
      "metadata": {
        "id": "i0g4dfrhFfzs"
      },
      "outputs": [],
      "source": [
        "import pandas as pd"
      ]
    },
    {
      "cell_type": "code",
      "execution_count": null,
      "metadata": {
        "colab": {
          "base_uri": "https://localhost:8080/"
        },
        "id": "ZZ_SlCD_Fr84",
        "outputId": "2e736684-78f5-4737-b6ab-58da3c31e2c8"
      },
      "outputs": [],
      "source": [
        "#! wget https://raw.githubusercontent.com/SuperDataWorld/Python/main/loan.csv\n",
        "\n",
        "df = pd.read_csv(\"https://raw.githubusercontent.com/SuperDataWorld/Python/main/loan.csv\")"
      ]
    },
    {
      "cell_type": "code",
      "execution_count": null,
      "metadata": {
        "colab": {
          "base_uri": "https://localhost:8080/"
        },
        "id": "S9abjJbXU1M0",
        "outputId": "012e1abd-2d93-4630-b9a8-6f259ed7a59f"
      },
      "outputs": [],
      "source": [
        "df.info()"
      ]
    },
    {
      "cell_type": "code",
      "execution_count": null,
      "metadata": {
        "colab": {
          "base_uri": "https://localhost:8080/",
          "height": 480
        },
        "id": "mAPPuNS-F2pE",
        "outputId": "1ec67f91-726c-4963-cbad-b23c5372af42"
      },
      "outputs": [],
      "source": [
        "df.head(12)"
      ]
    },
    {
      "cell_type": "code",
      "execution_count": null,
      "metadata": {
        "colab": {
          "base_uri": "https://localhost:8080/"
        },
        "id": "4yoZAXuGRd9p",
        "outputId": "0c7d5ed7-25c6-4b30-fd07-c0bbb15cd7f5"
      },
      "outputs": [],
      "source": [
        "df['Dependents'].value_counts()"
      ]
    },
    {
      "cell_type": "code",
      "execution_count": null,
      "metadata": {
        "id": "LkA2KXyoF7D4"
      },
      "outputs": [],
      "source": [
        "cols = df.columns"
      ]
    },
    {
      "cell_type": "code",
      "execution_count": null,
      "metadata": {
        "colab": {
          "base_uri": "https://localhost:8080/"
        },
        "id": "uuUqqDjKGFy_",
        "outputId": "a7053b79-c897-4a49-f83b-758fc9cba457"
      },
      "outputs": [],
      "source": [
        "cols"
      ]
    },
    {
      "cell_type": "markdown",
      "metadata": {
        "id": "4zOVJzrUSKcw"
      },
      "source": [
        "## Clean Up Functions"
      ]
    },
    {
      "cell_type": "code",
      "execution_count": null,
      "metadata": {
        "id": "L5ZpgxjxGOJi"
      },
      "outputs": [],
      "source": []
    },
    {
      "cell_type": "code",
      "execution_count": null,
      "metadata": {},
      "outputs": [],
      "source": []
    },
    {
      "cell_type": "markdown",
      "metadata": {
        "id": "eG6fSoWKSPVF"
      },
      "source": [
        "# Lists and Pipe"
      ]
    },
    {
      "cell_type": "code",
      "execution_count": null,
      "metadata": {
        "id": "f5_cflA9R-vh"
      },
      "outputs": [],
      "source": [
        "null_cols = ['Gender','Married','Dependents','Credit_History','Self_Employed','Loan_Amount_Term']\n",
        "av_cols = ['LoanAmount']\n",
        "rp_cols = ['Dependents']\n",
        "\n",
        "\n",
        "df = df.pipe(drop_nulls, null_cols).pipe(fill_vals,av_cols).pipe(replace_strings, rp_cols)"
      ]
    },
    {
      "cell_type": "markdown",
      "metadata": {
        "id": "qaAJMp_hSUe5"
      },
      "source": [
        "## Output"
      ]
    },
    {
      "cell_type": "code",
      "execution_count": null,
      "metadata": {
        "colab": {
          "base_uri": "https://localhost:8080/"
        },
        "id": "vGGeFucOR-lh",
        "outputId": "0d3aa5b6-4d91-4271-ef01-11dcaeb73308"
      },
      "outputs": [],
      "source": [
        "df.info()"
      ]
    },
    {
      "cell_type": "code",
      "execution_count": null,
      "metadata": {
        "colab": {
          "base_uri": "https://localhost:8080/",
          "height": 480
        },
        "id": "hRkJQFrNOx8d",
        "outputId": "5b1a1083-6dd5-487c-bb17-7069a8ee23b1"
      },
      "outputs": [],
      "source": [
        "df.head(12)\n",
        "# Row 0 NaN in Loan Amount\n",
        "# Row 7 # 3+ in Dependents\n",
        "# Row 11 NaN in self employed"
      ]
    }
  ],
  "metadata": {
    "colab": {
      "authorship_tag": "ABX9TyPyeLTuj0jbh0PRTQTg5A+I",
      "include_colab_link": true,
      "mount_file_id": "1di9dF18FQISi3V3BcmE0SqO2jKb073W8",
      "name": "Pipe.ipynb",
      "provenance": []
    },
    "kernelspec": {
      "display_name": "Python 3.8.3 64-bit",
      "language": "python",
      "name": "python3"
    },
    "language_info": {
      "codemirror_mode": {
        "name": "ipython",
        "version": 3
      },
      "file_extension": ".py",
      "mimetype": "text/x-python",
      "name": "python",
      "nbconvert_exporter": "python",
      "pygments_lexer": "ipython3",
      "version": "3.8.3"
    },
    "vscode": {
      "interpreter": {
        "hash": "aee8b7b246df8f9039afb4144a1f6fd8d2ca17a180786b69acc140d282b71a49"
      }
    }
  },
  "nbformat": 4,
  "nbformat_minor": 0
}
